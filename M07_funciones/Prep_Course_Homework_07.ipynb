{
 "cells": [
  {
   "attachments": {},
   "cell_type": "markdown",
   "metadata": {},
   "source": [
    "## Funciones"
   ]
  },
  {
   "attachments": {},
   "cell_type": "markdown",
   "metadata": {},
   "source": [
    "1) Crear una función que reciba un número como parámetro y devuelva True si es primo y False si no lo es"
   ]
  },
  {
   "cell_type": "code",
   "execution_count": 7,
   "metadata": {},
   "outputs": [],
   "source": [
    "def checkprimo (número):\n",
    "  for i in range(2,número):\n",
    "    if número%i == 0:\n",
    "        return False\n",
    "    return True\n",
    "  else:\n",
    "    return False"
   ]
  },
  {
   "cell_type": "code",
   "execution_count": 10,
   "metadata": {},
   "outputs": [
    {
     "data": {
      "text/plain": [
       "True"
      ]
     },
     "execution_count": 10,
     "metadata": {},
     "output_type": "execute_result"
    }
   ],
   "source": [
    "checkprimo (9)"
   ]
  },
  {
   "attachments": {},
   "cell_type": "markdown",
   "metadata": {},
   "source": [
    "2) Utilizando la función del punto 1, realizar otra función que reciba de parámetro una lista de números y devuelva sólo aquellos que son primos en otra lista"
   ]
  },
  {
   "cell_type": "code",
   "execution_count": 3,
   "metadata": {},
   "outputs": [],
   "source": [
    "lista = [-2,-1,0,1,2,3,4,5,6,7,8,9,11,12]\n",
    "\n",
    "def nuevalistaprimos (origen):\n",
    "    primos = []\n",
    "    for i in (origen):\n",
    "        if i>1 and i %2 !=0:\n",
    "            primos.append(i)\n",
    "    print (primos)        "
   ]
  },
  {
   "cell_type": "code",
   "execution_count": 4,
   "metadata": {},
   "outputs": [
    {
     "name": "stdout",
     "output_type": "stream",
     "text": [
      "[3, 5, 7, 9, 11]\n"
     ]
    }
   ],
   "source": [
    "nuevalistaprimos (lista)"
   ]
  },
  {
   "cell_type": "code",
   "execution_count": 11,
   "metadata": {},
   "outputs": [],
   "source": [
    "\n",
    "def crealista (origen):\n",
    "    listaprimos = []\n",
    "    for z in origen:\n",
    "        if checkprimo(z):\n",
    "            listaprimos.append(z)\n",
    "    return listaprimos\n",
    "          \n",
    "        "
   ]
  },
  {
   "cell_type": "code",
   "execution_count": 12,
   "metadata": {},
   "outputs": [
    {
     "name": "stdout",
     "output_type": "stream",
     "text": [
      "[3, 5, 7, 9]\n"
     ]
    }
   ],
   "source": [
    "lista = [-2,-1,0,1,2,3,4,5,6,7,8,9,]\n",
    "nueva_lista_primos = crealista(lista)\n",
    "print (nueva_lista_primos)"
   ]
  },
  {
   "attachments": {},
   "cell_type": "markdown",
   "metadata": {},
   "source": [
    "3) Crear una función que al recibir una lista de números, devuelva el que más se repite y cuántas veces lo hace. Si hay más de un \"más repetido\", que devuelva cualquiera"
   ]
  },
  {
   "cell_type": "code",
   "execution_count": 5,
   "metadata": {},
   "outputs": [],
   "source": [
    "lista = [0,0,0,0,0,1,2,3,4,5,6,7,8,8,8,9]\n",
    "def más_repetido (lista):\n",
    "    max_count=0\n",
    "    max_repeated=None\n",
    "    for i in lista:\n",
    "        contador_i= lista.count(i)\n",
    "        if contador_i > max_count:\n",
    "            max_count= lista.count(i)\n",
    "            max_repeated = i\n",
    "    print (f'El número que más se repite es', max_repeated,',unas', max_count, 'veces.')\n"
   ]
  },
  {
   "cell_type": "code",
   "execution_count": 6,
   "metadata": {},
   "outputs": [
    {
     "name": "stdout",
     "output_type": "stream",
     "text": [
      "El número que más se repite es 0 ,unas 5 veces.\n"
     ]
    }
   ],
   "source": [
    "más_repetido (lista)"
   ]
  },
  {
   "attachments": {},
   "cell_type": "markdown",
   "metadata": {},
   "source": [
    "4) Crear una función que convierta entre grados Celsius, Farenheit y Kelvin<br>\n",
    "Fórmula 1\t: (°C × 9/5) + 32 = °F<br>\n",
    "Fórmula 2\t: °C + 273.15 = °K<br>\n",
    "Debe recibir 3 parámetros: el valor, la medida de orígen y la medida de destino\n"
   ]
  },
  {
   "cell_type": "code",
   "execution_count": 10,
   "metadata": {},
   "outputs": [],
   "source": [
    "def conversor (temperatura, medida_origen, medida_destino):\n",
    "    if medida_origen == 'C':\n",
    "        if medida_destino == 'F':\n",
    "            resultado = (temperatura * 9/5) + 32\n",
    "        elif medida_destino == 'K':\n",
    "            resultado = temperatura + 273.15\n",
    "        elif medida_destino == 'C':\n",
    "            resultado = temperatura\n",
    "        else:\n",
    "            print ('Parámetro de destino incorrecto')\n",
    "    elif medida_origen == 'F':\n",
    "        if medida_destino == 'C':\n",
    "            resultado = (temperatura - 32) * 5 / 9\n",
    "        elif medida_destino == 'F':\n",
    "            resultado = temperatura  \n",
    "        elif medida_destino == 'K':\n",
    "            resultado = ((temperatura - 32) * 5 / 9) + 273.15\n",
    "        else:\n",
    "            print('Parámetro de Destino incorrecto')\n",
    "    elif medida_origen == 'K':\n",
    "        if medida_destino == 'C':\n",
    "            resultado = temperatura - 273.15  \n",
    "        elif medida_destino == 'F':\n",
    "            resultado = ((temperatura - 273.15) * 9 / 5) + 32 \n",
    "        elif medida_destino == 'K':\n",
    "            resultado = temperatura  \n",
    "        else:\n",
    "            print('Parámetro de Destino incorrecto')\n",
    "    else:\n",
    "        print ('Parámetro de medida_origen incorrecto')\n",
    "    return resultado\n",
    "    \n",
    "   "
   ]
  },
  {
   "cell_type": "code",
   "execution_count": 11,
   "metadata": {},
   "outputs": [
    {
     "data": {
      "text/plain": [
       "37.77777777777778"
      ]
     },
     "execution_count": 11,
     "metadata": {},
     "output_type": "execute_result"
    }
   ],
   "source": [
    "conversor (100,'F','C')\n"
   ]
  },
  {
   "attachments": {},
   "cell_type": "markdown",
   "metadata": {},
   "source": [
    "5) Iterando una lista con los tres valores posibles de temperatura que recibe la función del punto 5, hacer un print para cada combinación de los mismos:"
   ]
  },
  {
   "cell_type": "code",
   "execution_count": 14,
   "metadata": {},
   "outputs": [
    {
     "name": "stdout",
     "output_type": "stream",
     "text": [
      " 25 grados C equivalen a 25 C grados\n",
      " 25 grados C equivalen a 77.0 F grados\n",
      " 25 grados C equivalen a 298.15 K grados\n",
      " 25 grados F equivalen a -3.888888888888889 C grados\n",
      " 25 grados F equivalen a 25 F grados\n",
      " 25 grados F equivalen a 269.26111111111106 K grados\n",
      " 25 grados K equivalen a -248.14999999999998 C grados\n",
      " 25 grados K equivalen a -414.66999999999996 F grados\n",
      " 25 grados K equivalen a 25 K grados\n"
     ]
    }
   ],
   "source": [
    "unidades = ['C', 'F', 'K']\n",
    "temperatura = int(input('Ingrese un valor de temperatura'))\n",
    "for i in unidades:\n",
    "    for j in unidades:\n",
    "        print (f' {temperatura} grados {i} equivalen a {conversor (temperatura,i,j)} {j} grados')\n",
    "    "
   ]
  },
  {
   "attachments": {},
   "cell_type": "markdown",
   "metadata": {},
   "source": [
    "6) Armar una función que devuelva el factorial de un número. Tener en cuenta que el usuario puede equivocarse y enviar de parámetro un número no entero o negativo"
   ]
  },
  {
   "cell_type": "code",
   "execution_count": 17,
   "metadata": {},
   "outputs": [],
   "source": [
    "def factorial (n):\n",
    "    if n < 0 or not isinstance(n,int):\n",
    "        print ('Debe ser un entero positivo')\n",
    "    elif n == 0 or n == 1:\n",
    "        return 1\n",
    "    else:\n",
    "        resultado = n * factorial (n - 1)\n",
    "        return resultado"
   ]
  },
  {
   "cell_type": "code",
   "execution_count": 18,
   "metadata": {},
   "outputs": [
    {
     "data": {
      "text/plain": [
       "120"
      ]
     },
     "execution_count": 18,
     "metadata": {},
     "output_type": "execute_result"
    }
   ],
   "source": [
    "factorial(5)"
   ]
  },
  {
   "cell_type": "code",
   "execution_count": 19,
   "metadata": {},
   "outputs": [],
   "source": [
    "def factorial (n):\n",
    "    if n < 0 or not isinstance(n,int):\n",
    "        print ('Debe ser un entero positivo')\n",
    "    elif n == 0 or n == 1:\n",
    "        return 1\n",
    "    else:\n",
    "        resultado = n * factorial (n - 1)\n",
    "        print (resultado)\n",
    "        return resultado"
   ]
  },
  {
   "cell_type": "code",
   "execution_count": 20,
   "metadata": {},
   "outputs": [
    {
     "name": "stdout",
     "output_type": "stream",
     "text": [
      "2\n",
      "6\n",
      "24\n",
      "120\n"
     ]
    },
    {
     "data": {
      "text/plain": [
       "120"
      ]
     },
     "execution_count": 20,
     "metadata": {},
     "output_type": "execute_result"
    }
   ],
   "source": [
    "factorial(5)"
   ]
  }
 ],
 "metadata": {
  "interpreter": {
   "hash": "c85384e4cb51c8b72350f3a8712cc8351fdc3955e32a27f9b60c6242ab125f01"
  },
  "kernelspec": {
   "display_name": "Python 3 (ipykernel)",
   "language": "python",
   "name": "python3"
  },
  "language_info": {
   "codemirror_mode": {
    "name": "ipython",
    "version": 3
   },
   "file_extension": ".py",
   "mimetype": "text/x-python",
   "name": "python",
   "nbconvert_exporter": "python",
   "pygments_lexer": "ipython3",
   "version": "3.10.11"
  }
 },
 "nbformat": 4,
 "nbformat_minor": 4
}
