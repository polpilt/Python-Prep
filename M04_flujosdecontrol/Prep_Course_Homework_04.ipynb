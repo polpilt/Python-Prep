{
 "cells": [
  {
   "attachments": {},
   "cell_type": "markdown",
   "metadata": {},
   "source": [
    "## Flujos de Control"
   ]
  },
  {
   "attachments": {},
   "cell_type": "markdown",
   "metadata": {},
   "source": [
    "1) Crear una variable que contenga un elemento del conjunto de números enteros y luego imprimir por pantalla si es mayor o menor a cero"
   ]
  },
  {
   "cell_type": "code",
   "execution_count": 12,
   "metadata": {},
   "outputs": [
    {
     "name": "stdout",
     "output_type": "stream",
     "text": [
      "4 es mayor que cero\n"
     ]
    }
   ],
   "source": [
    "n=4\n",
    "if n > 0 :\n",
    "    print( n , 'es mayor que cero')\n",
    "else :\n",
    "    print ( n , 'es menor que cero')\n"
   ]
  },
  {
   "attachments": {},
   "cell_type": "markdown",
   "metadata": {},
   "source": [
    "2) Crear dos variables y un condicional que informe si son del mismo tipo de dato"
   ]
  },
  {
   "cell_type": "code",
   "execution_count": 19,
   "metadata": {},
   "outputs": [
    {
     "name": "stdout",
     "output_type": "stream",
     "text": [
      "Las variables son de tipo diferente\n"
     ]
    }
   ],
   "source": [
    "n=4\n",
    "s='cuerda'\n",
    "if  type(n)==type(s):\n",
    "    print ('Las variables son del mismo tipo')\n",
    "else:\n",
    "    print ('Las variables son de tipo diferente')\n",
    "\n"
   ]
  },
  {
   "attachments": {},
   "cell_type": "markdown",
   "metadata": {},
   "source": [
    "3) Para los valores enteros del 1 al 20, imprimir por pantalla si es par o impar"
   ]
  },
  {
   "cell_type": "code",
   "execution_count": 23,
   "metadata": {},
   "outputs": [
    {
     "name": "stdout",
     "output_type": "stream",
     "text": [
      "1 es impar\n",
      "2 es par\n",
      "3 es impar\n",
      "4 es par\n",
      "5 es impar\n",
      "6 es par\n",
      "7 es impar\n",
      "8 es par\n",
      "9 es impar\n",
      "10 es par\n",
      "11 es impar\n",
      "12 es par\n",
      "13 es impar\n",
      "14 es par\n",
      "15 es impar\n",
      "16 es par\n",
      "17 es impar\n",
      "18 es par\n",
      "19 es impar\n",
      "20 es par\n"
     ]
    }
   ],
   "source": [
    "rango= range(1,21)\n",
    "for n in rango:\n",
    "    if n%2==0:\n",
    "        print (n,'es par')\n",
    "    else:\n",
    "        print (n, 'es impar')\n"
   ]
  },
  {
   "attachments": {},
   "cell_type": "markdown",
   "metadata": {},
   "source": [
    "4) En un ciclo for mostrar para los valores entre 0 y 5 el resultado de elevarlo a la potencia igual a 3"
   ]
  },
  {
   "cell_type": "code",
   "execution_count": 28,
   "metadata": {},
   "outputs": [
    {
     "name": "stdout",
     "output_type": "stream",
     "text": [
      "0 elevado a 3 es 0\n",
      "1 elevado a 3 es 1\n",
      "2 elevado a 3 es 8\n",
      "3 elevado a 3 es 27\n",
      "4 elevado a 3 es 64\n",
      "5 elevado a 3 es 125\n"
     ]
    }
   ],
   "source": [
    "rango=range(0,6)\n",
    "for n in rango:\n",
    "    x=n**3\n",
    "    print (f'{n} elevado a 3 es {x}')"
   ]
  },
  {
   "attachments": {},
   "cell_type": "markdown",
   "metadata": {},
   "source": [
    "5) Crear una variable que contenga un número entero y realizar un ciclo for la misma cantidad de ciclos"
   ]
  },
  {
   "cell_type": "code",
   "execution_count": 5,
   "metadata": {},
   "outputs": [
    {
     "name": "stdout",
     "output_type": "stream",
     "text": [
      "0\n",
      "1\n",
      "2\n",
      "3\n",
      "4\n"
     ]
    }
   ],
   "source": [
    "i=4\n",
    "for i in range (0,i+1):\n",
    "    print (i)\n",
    "    "
   ]
  },
  {
   "attachments": {},
   "cell_type": "markdown",
   "metadata": {},
   "source": [
    "6) Utilizar un ciclo while para realizar el factorial de un número guardado en una variable, sólo si la variable contiene un número entero mayor a 0"
   ]
  },
  {
   "cell_type": "code",
   "execution_count": 11,
   "metadata": {},
   "outputs": [
    {
     "name": "stdout",
     "output_type": "stream",
     "text": [
      "24\n"
     ]
    }
   ],
   "source": [
    "n = 4\n",
    "factorial = 1\n",
    "if type(n) == int and n>0:\n",
    "    while n >= 1:\n",
    "        factorial = n * factorial\n",
    "        n -= 1\n",
    "print (factorial)\n",
    "\n",
    "    "
   ]
  },
  {
   "attachments": {},
   "cell_type": "markdown",
   "metadata": {},
   "source": [
    "7) Crear un ciclo for dentro de un ciclo while"
   ]
  },
  {
   "cell_type": "code",
   "execution_count": 9,
   "metadata": {},
   "outputs": [
    {
     "name": "stdout",
     "output_type": "stream",
     "text": [
      "while número: 1\n",
      "for número: 1\n",
      "while número: 2\n",
      "for número: 1\n",
      "for número: 2\n",
      "while número: 3\n",
      "for número: 1\n",
      "for número: 2\n",
      "for número: 3\n",
      "while número: 4\n",
      "for número: 1\n",
      "for número: 2\n",
      "for número: 3\n",
      "for número: 4\n",
      "while número: 5\n",
      "for número: 1\n",
      "for número: 2\n",
      "for número: 3\n",
      "for número: 4\n",
      "for número: 5\n",
      "while número: 6\n",
      "for número: 1\n",
      "for número: 2\n",
      "for número: 3\n",
      "for número: 4\n",
      "for número: 5\n",
      "for número: 6\n",
      "while número: 7\n",
      "for número: 1\n",
      "for número: 2\n",
      "for número: 3\n",
      "for número: 4\n",
      "for número: 5\n",
      "for número: 6\n",
      "for número: 7\n",
      "while número: 8\n",
      "for número: 1\n",
      "for número: 2\n",
      "for número: 3\n",
      "for número: 4\n",
      "for número: 5\n",
      "for número: 6\n",
      "for número: 7\n",
      "for número: 8\n",
      "while número: 9\n",
      "for número: 1\n",
      "for número: 2\n",
      "for número: 3\n",
      "for número: 4\n",
      "for número: 5\n",
      "for número: 6\n",
      "for número: 7\n",
      "for número: 8\n",
      "for número: 9\n"
     ]
    }
   ],
   "source": [
    "n=1\n",
    "while n<10:\n",
    "    print (f'while número: {n}')\n",
    "    for i in range(1, n + 1):\n",
    "        print (f'for número: {i}')\n",
    "    n+=1    \n"
   ]
  },
  {
   "attachments": {},
   "cell_type": "markdown",
   "metadata": {},
   "source": [
    "8) Crear un ciclo while dentro de un ciclo for"
   ]
  },
  {
   "cell_type": "code",
   "execution_count": 3,
   "metadata": {},
   "outputs": [
    {
     "name": "stdout",
     "output_type": "stream",
     "text": [
      "ciclo for número 0\n",
      "0 al cuadrado es 0\n",
      "1 al cuadrado es 1\n",
      "2 al cuadrado es 4\n",
      "3 al cuadrado es 9\n",
      "ciclo for número 1\n",
      "1 al cuadrado es 1\n",
      "2 al cuadrado es 4\n",
      "3 al cuadrado es 9\n",
      "ciclo for número 2\n",
      "2 al cuadrado es 4\n",
      "3 al cuadrado es 9\n",
      "ciclo for número 3\n",
      "3 al cuadrado es 9\n",
      "ciclo for número 4\n",
      "4 al cuadrado es 16\n"
     ]
    }
   ],
   "source": [
    "n = 5\n",
    "\n",
    "for i in range(n):\n",
    "    print (f'ciclo for número {i}') \n",
    "    x=i\n",
    "    while (x**2 < 20):\n",
    "        x=i**2\n",
    "        print (f'{i} al cuadrado es {x}')       \n",
    "        i+=1       \n",
    "\n"
   ]
  },
  {
   "cell_type": "code",
   "execution_count": 5,
   "metadata": {},
   "outputs": [
    {
     "name": "stdout",
     "output_type": "stream",
     "text": [
      "0 al cuadrado es igual a 0\n",
      "1 al cuadrado es igual a 1\n",
      "2 al cuadrado es igual a 4\n",
      "3 al cuadrado es igual a 9\n",
      "4 al cuadrado es igual a 16\n"
     ]
    }
   ],
   "source": [
    "n=5\n",
    "for i in range(n):\n",
    "    x=i**2\n",
    "    while x < 20:\n",
    "        print (f'{i} al cuadrado es igual a {x}')\n",
    "        break"
   ]
  },
  {
   "attachments": {},
   "cell_type": "markdown",
   "metadata": {},
   "source": [
    "9) Imprimir los números primos existentes entre 0 y 30"
   ]
  },
  {
   "cell_type": "code",
   "execution_count": 1,
   "metadata": {},
   "outputs": [
    {
     "name": "stdout",
     "output_type": "stream",
     "text": [
      "2\n",
      "3\n",
      "5\n",
      "7\n",
      "11\n",
      "13\n",
      "17\n",
      "19\n",
      "23\n",
      "29\n"
     ]
    }
   ],
   "source": [
    "max=30\n",
    "n=2\n",
    "primo=True\n",
    "\n",
    "while n <= 30:\n",
    "    for div in range (2,n):\n",
    "        if (n % div == 0):\n",
    "            primo = False\n",
    "    if (primo):\n",
    "        print (n)\n",
    "    else:\n",
    "        primo = True\n",
    "    n+=1        "
   ]
  },
  {
   "attachments": {},
   "cell_type": "markdown",
   "metadata": {},
   "source": [
    "10) ¿Se puede mejorar el proceso del punto 9? Utilizar las sentencias break y/ó continue para tal fin"
   ]
  },
  {
   "cell_type": "code",
   "execution_count": 3,
   "metadata": {},
   "outputs": [
    {
     "name": "stdout",
     "output_type": "stream",
     "text": [
      "2\n",
      "3\n",
      "5\n",
      "7\n",
      "11\n",
      "13\n",
      "17\n",
      "19\n",
      "23\n",
      "29\n"
     ]
    }
   ],
   "source": [
    "max=30\n",
    "n=2\n",
    "primo=True\n",
    "\n",
    "while n <= 30:\n",
    "    for div in range (2,n):\n",
    "        if (n % div == 0):\n",
    "            primo = False\n",
    "            break\n",
    "    if (primo):\n",
    "        print (n)\n",
    "    else:\n",
    "        primo = True\n",
    "    n+=1    "
   ]
  },
  {
   "attachments": {},
   "cell_type": "markdown",
   "metadata": {},
   "source": [
    "11) En los puntos 9 y 10, se diseño un código que encuentra números primos y además se lo optimizó. ¿Es posible saber en qué medida se optimizó?"
   ]
  },
  {
   "cell_type": "code",
   "execution_count": 7,
   "metadata": {},
   "outputs": [
    {
     "name": "stdout",
     "output_type": "stream",
     "text": [
      "2\n",
      "3\n",
      "5\n",
      "7\n",
      "11\n",
      "13\n",
      "17\n",
      "19\n",
      "23\n",
      "29\n",
      "ciclos 406\n"
     ]
    }
   ],
   "source": [
    "max=30\n",
    "n=2\n",
    "primo=True\n",
    "ciclos=0\n",
    "\n",
    "while n <= 30:\n",
    "    for div in range (2,n):\n",
    "        ciclos += 1\n",
    "        if (n % div == 0):\n",
    "            primo = False\n",
    "        \n",
    "    if (primo):\n",
    "        print (n)\n",
    "    else:\n",
    "        primo = True\n",
    "    n+=1    \n",
    "print (f'ciclos {ciclos}')"
   ]
  },
  {
   "cell_type": "code",
   "execution_count": 6,
   "metadata": {},
   "outputs": [
    {
     "name": "stdout",
     "output_type": "stream",
     "text": [
      "2\n",
      "3\n",
      "5\n",
      "7\n",
      "11\n",
      "13\n",
      "17\n",
      "19\n",
      "23\n",
      "29\n",
      "ciclos 135\n"
     ]
    }
   ],
   "source": [
    "max=30\n",
    "n=2\n",
    "primo=True\n",
    "ciclos=0\n",
    "\n",
    "while n <= 30:\n",
    "    for div in range (2,n):\n",
    "        ciclos += 1\n",
    "        if (n % div == 0):\n",
    "            primo = False\n",
    "            break\n",
    "    if (primo):\n",
    "        print (n)\n",
    "    else:\n",
    "        primo = True\n",
    "    n+=1    \n",
    "print (f'ciclos {ciclos}')"
   ]
  },
  {
   "attachments": {},
   "cell_type": "markdown",
   "metadata": {},
   "source": [
    "12) Aplicando continue, armar un ciclo while que solo imprima los valores divisibles por 12, dentro del rango de números de 100 a 300"
   ]
  },
  {
   "cell_type": "code",
   "execution_count": 1,
   "metadata": {},
   "outputs": [
    {
     "name": "stdout",
     "output_type": "stream",
     "text": [
      "108\n",
      "120\n",
      "132\n",
      "144\n",
      "156\n",
      "168\n",
      "180\n",
      "192\n",
      "204\n",
      "216\n",
      "228\n",
      "240\n",
      "252\n",
      "264\n",
      "276\n",
      "288\n",
      "300\n"
     ]
    }
   ],
   "source": [
    "d = 100\n",
    "while d <=300:\n",
    "        if (d % 12 == 0) :\n",
    "           print (d)\n",
    "        d+=1             \n",
    "        \n"
   ]
  },
  {
   "cell_type": "code",
   "execution_count": 3,
   "metadata": {},
   "outputs": [
    {
     "name": "stdout",
     "output_type": "stream",
     "text": [
      "108\n",
      "120\n",
      "132\n",
      "144\n",
      "156\n",
      "168\n",
      "180\n",
      "192\n",
      "204\n",
      "216\n",
      "228\n",
      "240\n",
      "252\n",
      "264\n",
      "276\n",
      "288\n",
      "300\n"
     ]
    }
   ],
   "source": [
    "n=99\n",
    "while n <=300:\n",
    "    n+=1\n",
    "    if (n%12!=0):\n",
    "        continue\n",
    "    print (n)\n",
    "    n +=1\n"
   ]
  },
  {
   "attachments": {},
   "cell_type": "markdown",
   "metadata": {},
   "source": [
    "13) Utilizar la función **input()** que permite hacer ingresos por teclado, para encontrar números primos y dar la opción al usario de buscar el siguiente"
   ]
  },
  {
   "cell_type": "code",
   "execution_count": 6,
   "metadata": {},
   "outputs": [
    {
     "name": "stdout",
     "output_type": "stream",
     "text": [
      "2 es número primo, buscar el siguiente? sí/no\n"
     ]
    },
    {
     "name": "stdout",
     "output_type": "stream",
     "text": [
      "fin del proceso\n"
     ]
    }
   ],
   "source": [
    "max=30\n",
    "n=2\n",
    "primo=True\n",
    "\n",
    "while n <= 30:\n",
    "    for div in range (2,n):\n",
    "        if (n % div == 0):\n",
    "            primo = False\n",
    "            break\n",
    "    if (primo):\n",
    "        print (f'{n} es número primo, buscar el siguiente? sí/no')\n",
    "        if (input () != 'sí'):\n",
    "            print ('fin del proceso')\n",
    "            break\n",
    "    else:\n",
    "        primo = True\n",
    "    n+=1    "
   ]
  },
  {
   "attachments": {},
   "cell_type": "markdown",
   "metadata": {},
   "source": [
    "14) Crear un ciclo while que encuentre dentro del rango de 100 a 300 el primer número divisible por 3 y además múltiplo de 6"
   ]
  },
  {
   "cell_type": "code",
   "execution_count": 13,
   "metadata": {},
   "outputs": [
    {
     "name": "stdout",
     "output_type": "stream",
     "text": [
      "el número es: 102\n"
     ]
    }
   ],
   "source": [
    "n=100\n",
    "\n",
    "while n<= 300:\n",
    "    if n % 6 == 0:\n",
    "        print ('el número es:' , str(n))\n",
    "        break\n",
    "    n+=1"
   ]
  },
  {
   "cell_type": "code",
   "execution_count": null,
   "metadata": {},
   "outputs": [],
   "source": []
  }
 ],
 "metadata": {
  "interpreter": {
   "hash": "c85384e4cb51c8b72350f3a8712cc8351fdc3955e32a27f9b60c6242ab125f01"
  },
  "kernelspec": {
   "display_name": "Python 3 (ipykernel)",
   "language": "python",
   "name": "python3"
  },
  "language_info": {
   "codemirror_mode": {
    "name": "ipython",
    "version": 3
   },
   "file_extension": ".py",
   "mimetype": "text/x-python",
   "name": "python",
   "nbconvert_exporter": "python",
   "pygments_lexer": "ipython3",
   "version": "3.10.11"
  }
 },
 "nbformat": 4,
 "nbformat_minor": 4
}
